{
 "cells": [
  {
   "cell_type": "code",
   "execution_count": 1,
   "metadata": {},
   "outputs": [],
   "source": [
    "import numpy as np\n",
    "import pandas as pd\n",
    "import matplotlib.pyplot as plt\n",
    "import seaborn as sns"
   ]
  },
  {
   "cell_type": "code",
   "execution_count": 2,
   "metadata": {},
   "outputs": [],
   "source": [
    "sns.set_style('darkgrid')"
   ]
  },
  {
   "cell_type": "code",
   "execution_count": 3,
   "metadata": {},
   "outputs": [],
   "source": [
    "members = pd.read_csv('/Users/skulkarni11/Documents/WIL/sem2/Machine Learning/project/data/Music subscriptions/members_v3.csv')"
   ]
  },
  {
   "cell_type": "code",
   "execution_count": 4,
   "metadata": {},
   "outputs": [],
   "source": [
    "transactions = pd.read_csv('/Users/skulkarni11/Documents/WIL/sem2/Machine Learning/project/data/Music subscriptions/transactions_v2.csv')"
   ]
  },
  {
   "cell_type": "code",
   "execution_count": 5,
   "metadata": {},
   "outputs": [],
   "source": [
    "churn = pd.read_csv('/Users/skulkarni11/Documents/WIL/sem2/Machine Learning/project/data/Music subscriptions/train_v2.csv')"
   ]
  },
  {
   "cell_type": "code",
   "execution_count": 6,
   "metadata": {},
   "outputs": [],
   "source": [
    "usage_log = pd.read_csv('/Users/skulkarni11/Documents/WIL/sem2/Machine Learning/project/data/Music subscriptions/user_logs_v2.csv')"
   ]
  },
  {
   "cell_type": "code",
   "execution_count": 7,
   "metadata": {},
   "outputs": [
    {
     "name": "stdout",
     "output_type": "stream",
     "text": [
      "<class 'pandas.core.frame.DataFrame'>\n",
      "RangeIndex: 18396362 entries, 0 to 18396361\n",
      "Data columns (total 9 columns):\n",
      "msno          object\n",
      "date          int64\n",
      "num_25        int64\n",
      "num_50        int64\n",
      "num_75        int64\n",
      "num_985       int64\n",
      "num_100       int64\n",
      "num_unq       int64\n",
      "total_secs    float64\n",
      "dtypes: float64(1), int64(7), object(1)\n",
      "memory usage: 1.2+ GB\n"
     ]
    }
   ],
   "source": [
    "usage_log.info()"
   ]
  },
  {
   "cell_type": "code",
   "execution_count": 8,
   "metadata": {},
   "outputs": [
    {
     "data": {
      "text/plain": [
       "msno          0\n",
       "date          0\n",
       "num_25        0\n",
       "num_50        0\n",
       "num_75        0\n",
       "num_985       0\n",
       "num_100       0\n",
       "num_unq       0\n",
       "total_secs    0\n",
       "dtype: int64"
      ]
     },
     "execution_count": 8,
     "metadata": {},
     "output_type": "execute_result"
    }
   ],
   "source": [
    "usage_log.isna().sum()"
   ]
  },
  {
   "cell_type": "code",
   "execution_count": 9,
   "metadata": {},
   "outputs": [
    {
     "data": {
      "text/plain": [
       "msno\n",
       "+++hVY1rZox/33YtvDgmKA2Frg/2qhkz12B9ylCvh8o=    31\n",
       "++4cUL0b9CfW8cj0A/wfSxQc4k4fcVtWcLqk2UOdpKs=    31\n",
       "++7IULiyKbNc8jllqhRuyKZjX1J4mPF4tsudFCJfv4k=    31\n",
       "++BW1PJYU5OZi3n3+IDLiU+d1IL1VE/GLx6p64TDs6U=    31\n",
       "++IjWFeERbYk9tNN+E1uleDRE9YBTRm8LTPwhwCyVIQ=    31\n",
       "++MudIvjB4P6fsqTIp5lB1WV4p5vm9hEg2C7oTqfJP8=    31\n",
       "++NdP5GS9hxpyOaig+eMIWJ1gw8VmC85qTsEG5YMs+w=    31\n",
       "++QRDV09vtw2al6TIndC5B4wqdyYYG9YhPFjCUy/FwE=    31\n",
       "++VJ+Lla5fcEpsJWCHx7i7x7LBdGkBiFTz3oBH3THOc=    31\n",
       "++bjW+qfoSxUnQRCJnZ1khb4qpbT01JwViLze8mTOAk=    31\n",
       "Name: date, dtype: int64"
      ]
     },
     "execution_count": 9,
     "metadata": {},
     "output_type": "execute_result"
    }
   ],
   "source": [
    "usage_log.groupby('msno')['date'].count().nlargest(10)"
   ]
  },
  {
   "cell_type": "code",
   "execution_count": 10,
   "metadata": {},
   "outputs": [
    {
     "data": {
      "text/plain": [
       "msno\n",
       "++4RuqBw0Ss6bQU4oMxaRlbBPoWzoEiIZaxPM04Y4+U=    1\n",
       "++IkcAfu6QXdeeyOI7yUXyGpXv2AtUFUK2SZNYXWZmg=    1\n",
       "++JHjhFuSV7upQUju29UmOHStYHmNiW5th0xEyUGW8s=    1\n",
       "++N444M3mFbtGdHmPFJaYtvh/e6HSQgIF+OyMGwNHs4=    1\n",
       "++WzwUilDTwylIR3EtdSaXH3iWnmVuWNyq3iiIgCSsM=    1\n",
       "++XNdJjfGpF5k/o2548rYGpi9Xly1LcoTt3N6e0Xw8o=    1\n",
       "++aTQuzrlR6QCrMNRtQWIGc/oM7oDNYk7uAzgMoAcms=    1\n",
       "++am6f+rLDE3gjQM7pKLVAthwCgaI46WHbTNuKtgpbI=    1\n",
       "++gzbSoJZRJod/mZc38IMuXdshlDpaIS8TU7kiTFXIk=    1\n",
       "++l1NsGiDeD9s8ftzYUwhhMuayijLHMHhcO6BNgOMe4=    1\n",
       "Name: date, dtype: int64"
      ]
     },
     "execution_count": 10,
     "metadata": {},
     "output_type": "execute_result"
    }
   ],
   "source": [
    "usage_log.groupby('msno')['date'].count().nsmallest(10)"
   ]
  },
  {
   "cell_type": "code",
   "execution_count": 11,
   "metadata": {},
   "outputs": [
    {
     "data": {
      "text/html": [
       "<div>\n",
       "<style scoped>\n",
       "    .dataframe tbody tr th:only-of-type {\n",
       "        vertical-align: middle;\n",
       "    }\n",
       "\n",
       "    .dataframe tbody tr th {\n",
       "        vertical-align: top;\n",
       "    }\n",
       "\n",
       "    .dataframe thead th {\n",
       "        text-align: right;\n",
       "    }\n",
       "</style>\n",
       "<table border=\"1\" class=\"dataframe\">\n",
       "  <thead>\n",
       "    <tr style=\"text-align: right;\">\n",
       "      <th></th>\n",
       "      <th>date</th>\n",
       "      <th>num_25</th>\n",
       "      <th>num_50</th>\n",
       "      <th>num_75</th>\n",
       "      <th>num_985</th>\n",
       "      <th>num_100</th>\n",
       "      <th>num_unq</th>\n",
       "      <th>total_secs</th>\n",
       "    </tr>\n",
       "  </thead>\n",
       "  <tbody>\n",
       "    <tr>\n",
       "      <th>count</th>\n",
       "      <td>1.839636e+07</td>\n",
       "      <td>1.839636e+07</td>\n",
       "      <td>1.839636e+07</td>\n",
       "      <td>1.839636e+07</td>\n",
       "      <td>1.839636e+07</td>\n",
       "      <td>1.839636e+07</td>\n",
       "      <td>1.839636e+07</td>\n",
       "      <td>1.839636e+07</td>\n",
       "    </tr>\n",
       "    <tr>\n",
       "      <th>mean</th>\n",
       "      <td>2.017032e+07</td>\n",
       "      <td>6.191401e+00</td>\n",
       "      <td>1.508789e+00</td>\n",
       "      <td>9.413759e-01</td>\n",
       "      <td>1.079905e+00</td>\n",
       "      <td>3.028246e+01</td>\n",
       "      <td>2.903615e+01</td>\n",
       "      <td>7.904814e+03</td>\n",
       "    </tr>\n",
       "    <tr>\n",
       "      <th>std</th>\n",
       "      <td>8.916720e+00</td>\n",
       "      <td>1.342827e+01</td>\n",
       "      <td>3.908539e+00</td>\n",
       "      <td>1.924840e+00</td>\n",
       "      <td>3.518409e+00</td>\n",
       "      <td>4.203641e+01</td>\n",
       "      <td>3.219866e+01</td>\n",
       "      <td>1.013632e+04</td>\n",
       "    </tr>\n",
       "    <tr>\n",
       "      <th>min</th>\n",
       "      <td>2.017030e+07</td>\n",
       "      <td>0.000000e+00</td>\n",
       "      <td>0.000000e+00</td>\n",
       "      <td>0.000000e+00</td>\n",
       "      <td>0.000000e+00</td>\n",
       "      <td>0.000000e+00</td>\n",
       "      <td>1.000000e+00</td>\n",
       "      <td>1.000000e-03</td>\n",
       "    </tr>\n",
       "    <tr>\n",
       "      <th>25%</th>\n",
       "      <td>2.017031e+07</td>\n",
       "      <td>0.000000e+00</td>\n",
       "      <td>0.000000e+00</td>\n",
       "      <td>0.000000e+00</td>\n",
       "      <td>0.000000e+00</td>\n",
       "      <td>7.000000e+00</td>\n",
       "      <td>8.000000e+00</td>\n",
       "      <td>1.959944e+03</td>\n",
       "    </tr>\n",
       "    <tr>\n",
       "      <th>50%</th>\n",
       "      <td>2.017032e+07</td>\n",
       "      <td>2.000000e+00</td>\n",
       "      <td>1.000000e+00</td>\n",
       "      <td>0.000000e+00</td>\n",
       "      <td>0.000000e+00</td>\n",
       "      <td>1.700000e+01</td>\n",
       "      <td>1.800000e+01</td>\n",
       "      <td>4.582990e+03</td>\n",
       "    </tr>\n",
       "    <tr>\n",
       "      <th>75%</th>\n",
       "      <td>2.017032e+07</td>\n",
       "      <td>7.000000e+00</td>\n",
       "      <td>2.000000e+00</td>\n",
       "      <td>1.000000e+00</td>\n",
       "      <td>1.000000e+00</td>\n",
       "      <td>3.700000e+01</td>\n",
       "      <td>3.800000e+01</td>\n",
       "      <td>9.848441e+03</td>\n",
       "    </tr>\n",
       "    <tr>\n",
       "      <th>max</th>\n",
       "      <td>2.017033e+07</td>\n",
       "      <td>5.639000e+03</td>\n",
       "      <td>9.120000e+02</td>\n",
       "      <td>5.080000e+02</td>\n",
       "      <td>1.561000e+03</td>\n",
       "      <td>4.110700e+04</td>\n",
       "      <td>4.925000e+03</td>\n",
       "      <td>9.194059e+06</td>\n",
       "    </tr>\n",
       "  </tbody>\n",
       "</table>\n",
       "</div>"
      ],
      "text/plain": [
       "               date        num_25        num_50        num_75       num_985  \\\n",
       "count  1.839636e+07  1.839636e+07  1.839636e+07  1.839636e+07  1.839636e+07   \n",
       "mean   2.017032e+07  6.191401e+00  1.508789e+00  9.413759e-01  1.079905e+00   \n",
       "std    8.916720e+00  1.342827e+01  3.908539e+00  1.924840e+00  3.518409e+00   \n",
       "min    2.017030e+07  0.000000e+00  0.000000e+00  0.000000e+00  0.000000e+00   \n",
       "25%    2.017031e+07  0.000000e+00  0.000000e+00  0.000000e+00  0.000000e+00   \n",
       "50%    2.017032e+07  2.000000e+00  1.000000e+00  0.000000e+00  0.000000e+00   \n",
       "75%    2.017032e+07  7.000000e+00  2.000000e+00  1.000000e+00  1.000000e+00   \n",
       "max    2.017033e+07  5.639000e+03  9.120000e+02  5.080000e+02  1.561000e+03   \n",
       "\n",
       "            num_100       num_unq    total_secs  \n",
       "count  1.839636e+07  1.839636e+07  1.839636e+07  \n",
       "mean   3.028246e+01  2.903615e+01  7.904814e+03  \n",
       "std    4.203641e+01  3.219866e+01  1.013632e+04  \n",
       "min    0.000000e+00  1.000000e+00  1.000000e-03  \n",
       "25%    7.000000e+00  8.000000e+00  1.959944e+03  \n",
       "50%    1.700000e+01  1.800000e+01  4.582990e+03  \n",
       "75%    3.700000e+01  3.800000e+01  9.848441e+03  \n",
       "max    4.110700e+04  4.925000e+03  9.194059e+06  "
      ]
     },
     "execution_count": 11,
     "metadata": {},
     "output_type": "execute_result"
    }
   ],
   "source": [
    "usage_log.describe()"
   ]
  },
  {
   "cell_type": "code",
   "execution_count": 12,
   "metadata": {},
   "outputs": [
    {
     "data": {
      "image/png": "[encoded data removed]",
      "text/plain": [
       "<Figure size 720x720 with 6 Axes>"
      ]
     },
     "metadata": {},
     "output_type": "display_data"
    }
   ],
   "source": [
    "fig, axes = plt.subplots(3, 2, squeeze=False, figsize=(10,10))\n",
    "axes = axes.flatten()\n",
    "\n",
    "sns.boxplot(usage_log['num_25'], ax=axes[0])\n",
    "sns.boxplot(usage_log['num_50'], ax=axes[1])\n",
    "sns.boxplot(usage_log['num_75'], ax=axes[2])\n",
    "sns.boxplot(usage_log['num_985'], ax=axes[3])\n",
    "sns.boxplot(usage_log['num_100'], ax=axes[4])\n",
    "plt.tight_layout()"
   ]
  },
  {
   "cell_type": "code",
   "execution_count": 13,
   "metadata": {},
   "outputs": [
    {
     "data": {
      "image/png": "[encoded data removed]",
      "text/plain": [
       "<Figure size 720x720 with 6 Axes>"
      ]
     },
     "metadata": {},
     "output_type": "display_data"
    }
   ],
   "source": [
    "fig, axes = plt.subplots(3, 2, squeeze=False, figsize=(10,10))\n",
    "axes = axes.flatten()\n",
    "\n",
    "sns.boxplot(usage_log['num_25'], ax=axes[0], showfliers=False)\n",
    "sns.boxplot(usage_log['num_50'], ax=axes[1], showfliers=False)\n",
    "sns.boxplot(usage_log['num_75'], ax=axes[2], showfliers=False)\n",
    "sns.boxplot(usage_log['num_985'], ax=axes[3], showfliers=False)\n",
    "sns.boxplot(usage_log['num_100'], ax=axes[4], showfliers=False)\n",
    "plt.tight_layout()"
   ]
  },
  {
   "cell_type": "code",
   "execution_count": 14,
   "metadata": {},
   "outputs": [
    {
     "data": {
      "text/plain": [
       "<matplotlib.axes._subplots.AxesSubplot at 0x1a26ff9d30>"
      ]
     },
     "execution_count": 14,
     "metadata": {},
     "output_type": "execute_result"
    },
    {
     "data": {
      "image/png": "[encoded data removed]",
      "text/plain": [
       "<Figure size 720x720 with 2 Axes>"
      ]
     },
     "metadata": {},
     "output_type": "display_data"
    }
   ],
   "source": [
    "fig, axes = plt.subplots(2, 1, squeeze=False, figsize=(10,10))\n",
    "axes = axes.flatten()\n",
    "\n",
    "sns.boxplot(usage_log['num_unq'], ax=axes[0])\n",
    "sns.boxplot(usage_log['total_secs'], ax=axes[1])"
   ]
  },
  {
   "cell_type": "code",
   "execution_count": 15,
   "metadata": {},
   "outputs": [
    {
     "data": {
      "text/plain": [
       "<matplotlib.axes._subplots.AxesSubplot at 0x1a25c43a58>"
      ]
     },
     "execution_count": 15,
     "metadata": {},
     "output_type": "execute_result"
    },
    {
     "data": {
      "image/png": "[encoded data removed]",
      "text/plain": [
       "<Figure size 720x720 with 2 Axes>"
      ]
     },
     "metadata": {},
     "output_type": "display_data"
    }
   ],
   "source": [
    "fig, axes = plt.subplots(2, 1, squeeze=False, figsize=(10,10))\n",
    "axes = axes.flatten()\n",
    "\n",
    "sns.boxplot(usagme_log['num_unq'], ax=axes[0], showfliers=False)\n",
    "sns.boxplot(usage_log['total_secs'], ax=axes[1], showfliers=False)"
   ]
  },
  {
   "cell_type": "code",
   "execution_count": 16,
   "metadata": {},
   "outputs": [],
   "source": [
    "members = pd.merge(members, churn, on='msno', how='outer')"
   ]
  },
  {
   "cell_type": "code",
   "execution_count": 17,
   "metadata": {},
   "outputs": [
    {
     "data": {
      "text/plain": [
       "970960"
      ]
     },
     "execution_count": 17,
     "metadata": {},
     "output_type": "execute_result"
    }
   ],
   "source": [
    "members['is_churn'].count()"
   ]
  },
  {
   "cell_type": "code",
   "execution_count": 19,
   "metadata": {},
   "outputs": [],
   "source": [
    "members['is_churn'].fillna(0, inplace=True)"
   ]
  },
  {
   "cell_type": "code",
   "execution_count": 22,
   "metadata": {},
   "outputs": [],
   "source": [
    "user_total_unq = usage_log.groupby('msno')['num_unq'].sum()"
   ]
  },
  {
   "cell_type": "code",
   "execution_count": 23,
   "metadata": {},
   "outputs": [
    {
     "data": {
      "text/plain": [
       "msno\n",
       "+++IZseRRiQS9aaSkH6cMYU6bGDcxUieAi/tH67sC5s=    530\n",
       "+++hVY1rZox/33YtvDgmKA2Frg/2qhkz12B9ylCvh8o=    885\n",
       "+++l/EXNMLTijfLBa8p2TUVVVp2aFGSuUI/h7mLmthw=    468\n",
       "+++snpr7pmobhLKUgSHTv/mpkqgBT0tQJ0zQj6qKrqc=    828\n",
       "++/9R3sX37CjxbY/AaGvbwr3QkwElKBCtSvVzhCBDOk=    230\n",
       "Name: num_unq, dtype: int64"
      ]
     },
     "execution_count": 23,
     "metadata": {},
     "output_type": "execute_result"
    }
   ],
   "source": [
    "user_total_unq.head()"
   ]
  },
  {
   "cell_type": "code",
   "execution_count": 24,
   "metadata": {},
   "outputs": [
    {
     "data": {
      "text/plain": [
       "<matplotlib.axes._subplots.AxesSubplot at 0x1a731f2eb8>"
      ]
     },
     "execution_count": 24,
     "metadata": {},
     "output_type": "execute_result"
    },
    {
     "data": {
      "image/png": "[encoded data removed]",
      "text/plain": [
       "<Figure size 432x288 with 1 Axes>"
      ]
     },
     "metadata": {},
     "output_type": "display_data"
    }
   ],
   "source": [
    "sns.boxplot(user_total_unq)"
   ]
  },
  {
   "cell_type": "code",
   "execution_count": 25,
   "metadata": {},
   "outputs": [
    {
     "data": {
      "text/plain": [
       "<matplotlib.axes._subplots.AxesSubplot at 0x1a731f2710>"
      ]
     },
     "execution_count": 25,
     "metadata": {},
     "output_type": "execute_result"
    },
    {
     "data": {
      "image/png": "[encoded data removed]",
      "text/plain": [
       "<Figure size 432x288 with 1 Axes>"
      ]
     },
     "metadata": {},
     "output_type": "display_data"
    }
   ],
   "source": [
    "sns.boxplot(user_total_unq, showfliers=False)"
   ]
  },
  {
   "cell_type": "code",
   "execution_count": 30,
   "metadata": {},
   "outputs": [
    {
     "data": {
      "text/plain": [
       "msno                      6879466\n",
       "city                      6769473\n",
       "bd                        6769473\n",
       "gender                    2339968\n",
       "registered_via            6769473\n",
       "registration_init_time    6769473\n",
       "is_churn                  6879466\n",
       "dtype: int64"
      ]
     },
     "execution_count": 30,
     "metadata": {},
     "output_type": "execute_result"
    }
   ],
   "source": [
    "members.count()"
   ]
  },
  {
   "cell_type": "code",
   "execution_count": 31,
   "metadata": {},
   "outputs": [],
   "source": [
    "## Merge the total unique songs per member\n",
    "members = pd.merge(members, user_total_unq.to_frame(), on='msno', how='outer')"
   ]
  },
  {
   "cell_type": "code",
   "execution_count": 32,
   "metadata": {},
   "outputs": [
    {
     "data": {
      "text/plain": [
       "msno                      6879487\n",
       "city                      6769473\n",
       "bd                        6769473\n",
       "gender                    2339968\n",
       "registered_via            6769473\n",
       "registration_init_time    6769473\n",
       "is_churn                  6879466\n",
       "num_unq                   1103894\n",
       "dtype: int64"
      ]
     },
     "execution_count": 32,
     "metadata": {},
     "output_type": "execute_result"
    }
   ],
   "source": [
    "members.count()"
   ]
  },
  {
   "cell_type": "code",
   "execution_count": null,
   "metadata": {},
   "outputs": [],
   "source": []
  }
 ],
 "metadata": {
  "kernelspec": {
   "display_name": "Python 3",
   "language": "python",
   "name": "python3"
  },
  "language_info": {
   "codemirror_mode": {
    "name": "ipython",
    "version": 3
   },
   "file_extension": ".py",
   "mimetype": "text/x-python",
   "name": "python",
   "nbconvert_exporter": "python",
   "pygments_lexer": "ipython3",
   "version": "3.7.1"
  }
 },
 "nbformat": 4,
 "nbformat_minor": 2
}
