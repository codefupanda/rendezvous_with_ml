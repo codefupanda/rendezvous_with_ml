{
 "cells": [
  {
   "cell_type": "code",
   "execution_count": 1,
   "metadata": {},
   "outputs": [],
   "source": [
    "import numpy as np\n",
    "import pandas as pd\n",
    "import matplotlib.pyplot as plt\n",
    "\n",
    "import seaborn as sns\n",
    "%matplotlib inline\n",
    "\n",
    "plt.rcParams['figure.dpi'] = 100\n",
    "sns.set_style('darkgrid')"
   ]
  },
  {
   "cell_type": "code",
   "execution_count": 4,
   "metadata": {},
   "outputs": [],
   "source": [
    "data = pd.read_csv('/Users/skulkarni11/Documents/WIL/sem2/Machine Learning/project/data/Final/dataset1_baseline.csv', dtype={'city': np.int8, 'bd': np.int8, 'registered_via': np.int8, 'registration_init_time': np.int32})"
   ]
  },
  {
   "cell_type": "code",
   "execution_count": 32,
   "metadata": {},
   "outputs": [
    {
     "name": "stdout",
     "output_type": "stream",
     "text": [
      "<class 'pandas.core.frame.DataFrame'>\n",
      "RangeIndex: 793708 entries, 0 to 793707\n",
      "Columns: 174 entries, date_count to registration_init_year\n",
      "dtypes: float64(17), int32(1), int64(153), int8(3)\n",
      "memory usage: 1.0 GB\n"
     ]
    }
   ],
   "source": [
    "data.info()"
   ]
  },
  {
   "cell_type": "code",
   "execution_count": 9,
   "metadata": {},
   "outputs": [
    {
     "name": "stdout",
     "output_type": "stream",
     "text": [
      "Unnamed: 0\n",
      "msno\n",
      "date_min\n",
      "date_max\n",
      "date_count\n",
      "num_25_sum\n",
      "num_25_mean\n",
      "num_25_min\n",
      "num_25_max\n",
      "num_25_median\n",
      "num_50_sum\n",
      "num_50_mean\n",
      "num_50_min\n",
      "num_50_max\n",
      "num_50_median\n",
      "num_75_sum\n",
      "num_75_mean\n",
      "num_75_min\n",
      "num_75_max\n",
      "num_75_median\n",
      "num_985_sum\n",
      "num_985_mean\n",
      "num_985_min\n",
      "num_985_max\n",
      "num_985_median\n",
      "num_100_sum\n",
      "num_100_mean\n",
      "num_100_min\n",
      "num_100_max\n",
      "num_100_median\n",
      "num_unq_sum\n",
      "num_unq_mean\n",
      "num_unq_min\n",
      "num_unq_max\n",
      "num_unq_median\n",
      "total_secs_sum\n",
      "total_secs_mean\n",
      "total_secs_min\n",
      "total_secs_max\n",
      "total_secs_median\n",
      "is_churn\n",
      "Unnamed: 0_x\n",
      "uniquedaysoftransaction\n",
      "trans_date_1\n",
      "trans_date_2\n",
      "trans_date_3\n",
      "trans_date_4\n",
      "trans_date_5\n",
      "trans_date_6\n",
      "trans_date_7\n",
      "trans_date_8\n",
      "trans_date_9\n",
      "trans_date_10\n",
      "trans_date_11\n",
      "trans_date_12\n",
      "trans_date_13\n",
      "trans_date_14\n",
      "trans_date_15\n",
      "trans_date_16\n",
      "trans_date_17\n",
      "trans_date_18\n",
      "trans_date_19\n",
      "trans_date_20\n",
      "trans_date_21\n",
      "trans_date_22\n",
      "trans_date_23\n",
      "trans_date_24\n",
      "trans_date_25\n",
      "trans_date_26\n",
      "trans_date_27\n",
      "trans_date_28\n",
      "trans_date_29\n",
      "trans_date_30\n",
      "trans_date_31\n",
      "trans_month_1\n",
      "trans_month_2\n",
      "trans_month_3\n",
      "trans_month_4\n",
      "trans_month_5\n",
      "trans_month_6\n",
      "trans_month_7\n",
      "trans_month_8\n",
      "trans_month_9\n",
      "trans_month_10\n",
      "trans_month_11\n",
      "trans_month_12\n",
      "trans_year_2015\n",
      "trans_year_2016\n",
      "trans_year_2017\n",
      "deltapaid\n",
      "payment_method_id_1\n",
      "payment_method_id_2\n",
      "payment_method_id_3\n",
      "payment_method_id_4\n",
      "payment_method_id_5\n",
      "payment_method_id_6\n",
      "payment_method_id_7\n",
      "payment_method_id_8\n",
      "payment_method_id_10\n",
      "payment_method_id_11\n",
      "payment_method_id_12\n",
      "payment_method_id_13\n",
      "payment_method_id_14\n",
      "payment_method_id_15\n",
      "payment_method_id_16\n",
      "payment_method_id_17\n",
      "payment_method_id_18\n",
      "payment_method_id_19\n",
      "payment_method_id_20\n",
      "payment_method_id_21\n",
      "payment_method_id_22\n",
      "payment_method_id_23\n",
      "payment_method_id_24\n",
      "payment_method_id_25\n",
      "payment_method_id_26\n",
      "payment_method_id_27\n",
      "payment_method_id_28\n",
      "payment_method_id_29\n",
      "payment_method_id_30\n",
      "payment_method_id_31\n",
      "payment_method_id_32\n",
      "payment_method_id_33\n",
      "payment_method_id_34\n",
      "payment_method_id_35\n",
      "payment_method_id_36\n",
      "payment_method_id_37\n",
      "payment_method_id_38\n",
      "payment_method_id_39\n",
      "payment_method_id_40\n",
      "payment_method_id_41\n",
      "payment_plan_days_0\n",
      "payment_plan_days_1\n",
      "payment_plan_days_2\n",
      "payment_plan_days_3\n",
      "payment_plan_days_7\n",
      "payment_plan_days_10\n",
      "payment_plan_days_14\n",
      "payment_plan_days_15\n",
      "payment_plan_days_21\n",
      "payment_plan_days_30\n",
      "payment_plan_days_31\n",
      "payment_plan_days_35\n",
      "payment_plan_days_45\n",
      "payment_plan_days_60\n",
      "payment_plan_days_66\n",
      "payment_plan_days_70\n",
      "payment_plan_days_80\n",
      "payment_plan_days_90\n",
      "payment_plan_days_95\n",
      "payment_plan_days_99\n",
      "payment_plan_days_100\n",
      "payment_plan_days_110\n",
      "payment_plan_days_120\n",
      "payment_plan_days_180\n",
      "payment_plan_days_195\n",
      "payment_plan_days_200\n",
      "payment_plan_days_230\n",
      "payment_plan_days_240\n",
      "payment_plan_days_270\n",
      "payment_plan_days_360\n",
      "payment_plan_days_365\n",
      "payment_plan_days_395\n",
      "payment_plan_days_400\n",
      "payment_plan_days_410\n",
      "payment_plan_days_415\n",
      "payment_plan_days_425\n",
      "payment_plan_days_450\n",
      "is_auto_renew_0\n",
      "is_auto_renew_1\n",
      "is_cancel_0\n",
      "is_cancel_1\n",
      "Unnamed: 0_y\n",
      "city\n",
      "bd\n",
      "gender\n",
      "registered_via\n",
      "registration_init_time\n",
      "registration_init_day\n",
      "registration_init_month\n",
      "registration_init_year\n"
     ]
    }
   ],
   "source": [
    "for i in data.columns: \n",
    "    print(i)"
   ]
  },
  {
   "cell_type": "code",
   "execution_count": 30,
   "metadata": {},
   "outputs": [
    {
     "data": {
      "text/html": [
       "<div>\n",
       "<style scoped>\n",
       "    .dataframe tbody tr th:only-of-type {\n",
       "        vertical-align: middle;\n",
       "    }\n",
       "\n",
       "    .dataframe tbody tr th {\n",
       "        vertical-align: top;\n",
       "    }\n",
       "\n",
       "    .dataframe thead th {\n",
       "        text-align: right;\n",
       "    }\n",
       "</style>\n",
       "<table border=\"1\" class=\"dataframe\">\n",
       "  <thead>\n",
       "    <tr style=\"text-align: right;\">\n",
       "      <th></th>\n",
       "      <th>date_min</th>\n",
       "      <th>date_max</th>\n",
       "      <th>date_count</th>\n",
       "      <th>num_25_sum</th>\n",
       "      <th>num_25_mean</th>\n",
       "      <th>num_25_min</th>\n",
       "      <th>num_25_max</th>\n",
       "      <th>num_25_median</th>\n",
       "      <th>num_50_sum</th>\n",
       "      <th>num_50_mean</th>\n",
       "      <th>...</th>\n",
       "      <th>is_cancel_0</th>\n",
       "      <th>is_cancel_1</th>\n",
       "      <th>city</th>\n",
       "      <th>bd</th>\n",
       "      <th>gender</th>\n",
       "      <th>registered_via</th>\n",
       "      <th>registration_init_time</th>\n",
       "      <th>registration_init_day</th>\n",
       "      <th>registration_init_month</th>\n",
       "      <th>registration_init_year</th>\n",
       "    </tr>\n",
       "  </thead>\n",
       "  <tbody>\n",
       "    <tr>\n",
       "      <th>0</th>\n",
       "      <td>2016-12-01</td>\n",
       "      <td>2017-02-28</td>\n",
       "      <td>13</td>\n",
       "      <td>444</td>\n",
       "      <td>5.095604</td>\n",
       "      <td>0</td>\n",
       "      <td>14</td>\n",
       "      <td>4.00</td>\n",
       "      <td>218</td>\n",
       "      <td>2.512088</td>\n",
       "      <td>...</td>\n",
       "      <td>5</td>\n",
       "      <td>0</td>\n",
       "      <td>1</td>\n",
       "      <td>0</td>\n",
       "      <td>-1</td>\n",
       "      <td>7</td>\n",
       "      <td>20140608</td>\n",
       "      <td>8</td>\n",
       "      <td>6</td>\n",
       "      <td>2014</td>\n",
       "    </tr>\n",
       "    <tr>\n",
       "      <th>1</th>\n",
       "      <td>2016-12-01</td>\n",
       "      <td>2017-02-28</td>\n",
       "      <td>14</td>\n",
       "      <td>180</td>\n",
       "      <td>1.996599</td>\n",
       "      <td>0</td>\n",
       "      <td>23</td>\n",
       "      <td>1.00</td>\n",
       "      <td>78</td>\n",
       "      <td>0.864371</td>\n",
       "      <td>...</td>\n",
       "      <td>21</td>\n",
       "      <td>0</td>\n",
       "      <td>15</td>\n",
       "      <td>26</td>\n",
       "      <td>1</td>\n",
       "      <td>9</td>\n",
       "      <td>20101118</td>\n",
       "      <td>18</td>\n",
       "      <td>11</td>\n",
       "      <td>2010</td>\n",
       "    </tr>\n",
       "    <tr>\n",
       "      <th>2</th>\n",
       "      <td>2016-12-01</td>\n",
       "      <td>2017-02-28</td>\n",
       "      <td>14</td>\n",
       "      <td>643</td>\n",
       "      <td>9.627976</td>\n",
       "      <td>0</td>\n",
       "      <td>50</td>\n",
       "      <td>8.25</td>\n",
       "      <td>328</td>\n",
       "      <td>5.410119</td>\n",
       "      <td>...</td>\n",
       "      <td>27</td>\n",
       "      <td>0</td>\n",
       "      <td>1</td>\n",
       "      <td>0</td>\n",
       "      <td>-1</td>\n",
       "      <td>7</td>\n",
       "      <td>20140927</td>\n",
       "      <td>27</td>\n",
       "      <td>9</td>\n",
       "      <td>2014</td>\n",
       "    </tr>\n",
       "    <tr>\n",
       "      <th>3</th>\n",
       "      <td>2016-12-01</td>\n",
       "      <td>2017-02-28</td>\n",
       "      <td>13</td>\n",
       "      <td>243</td>\n",
       "      <td>2.780037</td>\n",
       "      <td>0</td>\n",
       "      <td>21</td>\n",
       "      <td>2.00</td>\n",
       "      <td>80</td>\n",
       "      <td>0.870147</td>\n",
       "      <td>...</td>\n",
       "      <td>13</td>\n",
       "      <td>0</td>\n",
       "      <td>18</td>\n",
       "      <td>21</td>\n",
       "      <td>1</td>\n",
       "      <td>7</td>\n",
       "      <td>20160315</td>\n",
       "      <td>15</td>\n",
       "      <td>3</td>\n",
       "      <td>2016</td>\n",
       "    </tr>\n",
       "    <tr>\n",
       "      <th>4</th>\n",
       "      <td>2016-12-01</td>\n",
       "      <td>2017-02-28</td>\n",
       "      <td>13</td>\n",
       "      <td>204</td>\n",
       "      <td>3.169872</td>\n",
       "      <td>0</td>\n",
       "      <td>18</td>\n",
       "      <td>2.50</td>\n",
       "      <td>66</td>\n",
       "      <td>0.876282</td>\n",
       "      <td>...</td>\n",
       "      <td>21</td>\n",
       "      <td>0</td>\n",
       "      <td>22</td>\n",
       "      <td>32</td>\n",
       "      <td>1</td>\n",
       "      <td>9</td>\n",
       "      <td>20120122</td>\n",
       "      <td>22</td>\n",
       "      <td>1</td>\n",
       "      <td>2012</td>\n",
       "    </tr>\n",
       "  </tbody>\n",
       "</table>\n",
       "<p>5 rows × 176 columns</p>\n",
       "</div>"
      ],
      "text/plain": [
       "     date_min    date_max  date_count  num_25_sum  num_25_mean  num_25_min  \\\n",
       "0  2016-12-01  2017-02-28          13         444     5.095604           0   \n",
       "1  2016-12-01  2017-02-28          14         180     1.996599           0   \n",
       "2  2016-12-01  2017-02-28          14         643     9.627976           0   \n",
       "3  2016-12-01  2017-02-28          13         243     2.780037           0   \n",
       "4  2016-12-01  2017-02-28          13         204     3.169872           0   \n",
       "\n",
       "   num_25_max  num_25_median  num_50_sum  num_50_mean           ...            \\\n",
       "0          14           4.00         218     2.512088           ...             \n",
       "1          23           1.00          78     0.864371           ...             \n",
       "2          50           8.25         328     5.410119           ...             \n",
       "3          21           2.00          80     0.870147           ...             \n",
       "4          18           2.50          66     0.876282           ...             \n",
       "\n",
       "   is_cancel_0  is_cancel_1  city  bd  gender  registered_via  \\\n",
       "0            5            0     1   0      -1               7   \n",
       "1           21            0    15  26       1               9   \n",
       "2           27            0     1   0      -1               7   \n",
       "3           13            0    18  21       1               7   \n",
       "4           21            0    22  32       1               9   \n",
       "\n",
       "   registration_init_time  registration_init_day  registration_init_month  \\\n",
       "0                20140608                      8                        6   \n",
       "1                20101118                     18                       11   \n",
       "2                20140927                     27                        9   \n",
       "3                20160315                     15                        3   \n",
       "4                20120122                     22                        1   \n",
       "\n",
       "   registration_init_year  \n",
       "0                    2014  \n",
       "1                    2010  \n",
       "2                    2014  \n",
       "3                    2016  \n",
       "4                    2012  \n",
       "\n",
       "[5 rows x 176 columns]"
      ]
     },
     "execution_count": 30,
     "metadata": {},
     "output_type": "execute_result"
    }
   ],
   "source": [
    "data.head()"
   ]
  },
  {
   "cell_type": "code",
   "execution_count": 21,
   "metadata": {},
   "outputs": [],
   "source": [
    "data.drop(['Unnamed: 0', 'Unnamed: 0_x', 'Unnamed: 0_y'], axis=1, inplace=True)"
   ]
  },
  {
   "cell_type": "code",
   "execution_count": 23,
   "metadata": {},
   "outputs": [],
   "source": [
    "data.drop(['msno'], axis=1, inplace=True)"
   ]
  },
  {
   "cell_type": "code",
   "execution_count": 31,
   "metadata": {},
   "outputs": [],
   "source": [
    "data.drop(['date_min', 'date_max'], axis=1, inplace=True)"
   ]
  },
  {
   "cell_type": "code",
   "execution_count": 33,
   "metadata": {},
   "outputs": [],
   "source": [
    "y = data['is_churn']"
   ]
  },
  {
   "cell_type": "code",
   "execution_count": 34,
   "metadata": {},
   "outputs": [],
   "source": [
    "X = data.loc[:, data.columns != 'is_churn']"
   ]
  },
  {
   "cell_type": "code",
   "execution_count": 35,
   "metadata": {},
   "outputs": [],
   "source": [
    "from sklearn.model_selection import train_test_split\n",
    "X_train, X_test, y_train, y_test = train_test_split(X, y, test_size=0.33, random_state=42)"
   ]
  },
  {
   "cell_type": "code",
   "execution_count": 58,
   "metadata": {},
   "outputs": [
    {
     "data": {
      "text/plain": [
       "531784"
      ]
     },
     "execution_count": 58,
     "metadata": {},
     "output_type": "execute_result"
    }
   ],
   "source": [
    "len(y_train)"
   ]
  },
  {
   "cell_type": "code",
   "execution_count": 62,
   "metadata": {},
   "outputs": [
    {
     "data": {
      "text/plain": [
       "49977"
      ]
     },
     "execution_count": 62,
     "metadata": {},
     "output_type": "execute_result"
    }
   ],
   "source": [
    "y_train[y_train==1].count()"
   ]
  },
  {
   "cell_type": "code",
   "execution_count": 63,
   "metadata": {},
   "outputs": [
    {
     "data": {
      "text/plain": [
       "261924"
      ]
     },
     "execution_count": 63,
     "metadata": {},
     "output_type": "execute_result"
    }
   ],
   "source": [
    "len(y_test)"
   ]
  },
  {
   "cell_type": "code",
   "execution_count": 64,
   "metadata": {},
   "outputs": [
    {
     "data": {
      "text/plain": [
       "24513"
      ]
     },
     "execution_count": 64,
     "metadata": {},
     "output_type": "execute_result"
    }
   ],
   "source": [
    "y_test[y_test==1].count()"
   ]
  },
  {
   "cell_type": "code",
   "execution_count": 36,
   "metadata": {},
   "outputs": [],
   "source": [
    "from sklearn.ensemble import RandomForestClassifier"
   ]
  },
  {
   "cell_type": "code",
   "execution_count": 37,
   "metadata": {},
   "outputs": [],
   "source": [
    "forest = RandomForestClassifier(n_estimators=10)"
   ]
  },
  {
   "cell_type": "code",
   "execution_count": 38,
   "metadata": {},
   "outputs": [
    {
     "data": {
      "text/plain": [
       "RandomForestClassifier(bootstrap=True, class_weight=None, criterion='gini',\n",
       "            max_depth=None, max_features='auto', max_leaf_nodes=None,\n",
       "            min_impurity_decrease=0.0, min_impurity_split=None,\n",
       "            min_samples_leaf=1, min_samples_split=2,\n",
       "            min_weight_fraction_leaf=0.0, n_estimators=10, n_jobs=None,\n",
       "            oob_score=False, random_state=None, verbose=0,\n",
       "            warm_start=False)"
      ]
     },
     "execution_count": 38,
     "metadata": {},
     "output_type": "execute_result"
    }
   ],
   "source": [
    "forest.fit(X_train, y_train)"
   ]
  },
  {
   "cell_type": "code",
   "execution_count": 39,
   "metadata": {},
   "outputs": [],
   "source": [
    "y_pred = forest.predict(X_test)"
   ]
  },
  {
   "cell_type": "code",
   "execution_count": 100,
   "metadata": {},
   "outputs": [
    {
     "data": {
      "text/plain": [
       "245771"
      ]
     },
     "execution_count": 100,
     "metadata": {},
     "output_type": "execute_result"
    }
   ],
   "source": [
    "len(y_pred[y_pred==0])"
   ]
  },
  {
   "cell_type": "code",
   "execution_count": 101,
   "metadata": {},
   "outputs": [
    {
     "data": {
      "text/plain": [
       "16153"
      ]
     },
     "execution_count": 101,
     "metadata": {},
     "output_type": "execute_result"
    }
   ],
   "source": [
    "len(y_pred[y_pred==1])"
   ]
  },
  {
   "cell_type": "code",
   "execution_count": 73,
   "metadata": {},
   "outputs": [],
   "source": [
    "from sklearn.metrics import precision_recall_curve"
   ]
  },
  {
   "cell_type": "code",
   "execution_count": 88,
   "metadata": {},
   "outputs": [],
   "source": [
    "precision, recall, thresholds = precision_recall_curve(y_pred, y_test)"
   ]
  },
  {
   "cell_type": "code",
   "execution_count": 89,
   "metadata": {},
   "outputs": [
    {
     "data": {
      "text/plain": [
       "(2,)"
      ]
     },
     "execution_count": 89,
     "metadata": {},
     "output_type": "execute_result"
    }
   ],
   "source": [
    "thresholds.shape"
   ]
  },
  {
   "cell_type": "code",
   "execution_count": 90,
   "metadata": {},
   "outputs": [
    {
     "data": {
      "text/plain": [
       "[<matplotlib.lines.Line2D at 0x1a1d10dcf8>]"
      ]
     },
     "execution_count": 90,
     "metadata": {},
     "output_type": "execute_result"
    },
    {
     "data": {
      "image/png": "[encoded data removed]",
      "text/plain": [
       "<Figure size 432x288 with 1 Axes>"
      ]
     },
     "metadata": {
      "needs_background": "light"
     },
     "output_type": "display_data"
    }
   ],
   "source": [
    "plt.plot(thresholds, precision[:-1])\n",
    "plt.plot(thresholds, recall[:-1])\n",
    "plt.plot(precision, recall, 'r')\n",
    "plt.plot(precision[-1], recall[-1], 'bo')"
   ]
  },
  {
   "cell_type": "code",
   "execution_count": 76,
   "metadata": {},
   "outputs": [],
   "source": [
    "from sklearn.metrics import roc_curve"
   ]
  },
  {
   "cell_type": "code",
   "execution_count": 80,
   "metadata": {},
   "outputs": [],
   "source": [
    "fpr, tpr, thresholds = roc_curve(y_test, y_pred)"
   ]
  },
  {
   "cell_type": "code",
   "execution_count": 85,
   "metadata": {},
   "outputs": [
    {
     "data": {
      "text/plain": [
       "(array([0.        , 0.01024384, 1.        ]),\n",
       " array([0.        , 0.55974381, 1.        ]),\n",
       " array([2, 1, 0]))"
      ]
     },
     "execution_count": 85,
     "metadata": {},
     "output_type": "execute_result"
    }
   ],
   "source": [
    "fpr, tpr, thresholds"
   ]
  },
  {
   "cell_type": "code",
   "execution_count": 86,
   "metadata": {},
   "outputs": [
    {
     "data": {
      "text/plain": [
       "[<matplotlib.lines.Line2D at 0x1a23438208>]"
      ]
     },
     "execution_count": 86,
     "metadata": {},
     "output_type": "execute_result"
    },
    {
     "data": {
      "image/png": "[encoded data removed]",
      "text/plain": [
       "<Figure size 432x288 with 1 Axes>"
      ]
     },
     "metadata": {
      "needs_background": "light"
     },
     "output_type": "display_data"
    }
   ],
   "source": [
    "plt.plot(thresholds, fpr, 'r')\n",
    "plt.plot(thresholds, tpr, 'b')\n",
    "plt.plot(tpr, fpr, 'g')\n",
    "plt.plot(fpr[-1], tpr[-1], 'bo')"
   ]
  },
  {
   "cell_type": "code",
   "execution_count": 45,
   "metadata": {},
   "outputs": [],
   "source": [
    "from sklearn.model_selection import cross_val_score"
   ]
  },
  {
   "cell_type": "code",
   "execution_count": 46,
   "metadata": {},
   "outputs": [
    {
     "data": {
      "text/plain": [
       "array([0.94916226, 0.94904944, 0.94900147, 0.94896386, 0.94850314])"
      ]
     },
     "execution_count": 46,
     "metadata": {},
     "output_type": "execute_result"
    }
   ],
   "source": [
    "cross_val_score(RandomForestClassifier(n_estimators=10), X_train, y_train, cv=5, scoring='accuracy')"
   ]
  },
  {
   "cell_type": "code",
   "execution_count": 47,
   "metadata": {},
   "outputs": [
    {
     "data": {
      "text/plain": [
       "array([0.8594833 , 0.84840012, 0.86110256, 0.85607219, 0.8563298 ])"
      ]
     },
     "execution_count": 47,
     "metadata": {},
     "output_type": "execute_result"
    }
   ],
   "source": [
    "cross_val_score(RandomForestClassifier(n_estimators=10), X_train, y_train, cv=5, scoring='precision')"
   ]
  },
  {
   "cell_type": "code",
   "execution_count": 48,
   "metadata": {},
   "outputs": [
    {
     "data": {
      "text/plain": [
       "array([0.82097295, 0.81923608, 0.81992627, 0.82291807, 0.82018182])"
      ]
     },
     "execution_count": 48,
     "metadata": {},
     "output_type": "execute_result"
    }
   ],
   "source": [
    "cross_val_score(RandomForestClassifier(n_estimators=10), X_train, y_train, cv=5, scoring='f1_macro')"
   ]
  },
  {
   "cell_type": "code",
   "execution_count": 52,
   "metadata": {},
   "outputs": [
    {
     "data": {
      "text/plain": [
       "array([5.81303917e-03, 1.06702858e-02, 1.09767467e-02, 8.82177082e-04,\n",
       "       1.00551286e-02, 7.82777791e-03, 9.77570332e-03, 1.04483552e-02,\n",
       "       3.02919921e-04, 8.18305516e-03, 4.76831124e-03, 9.35554877e-03,\n",
       "       1.00992011e-02, 2.71764237e-04, 6.66088924e-03, 4.19852148e-03,\n",
       "       9.74103677e-03, 1.03241835e-02, 2.58065608e-04, 7.12153973e-03,\n",
       "       4.37035064e-03, 1.00935221e-02, 9.70130160e-03, 3.65428052e-03,\n",
       "       9.93378520e-03, 9.22285664e-03, 1.10072743e-02, 1.01628716e-02,\n",
       "       3.35528382e-03, 1.01763323e-02, 9.56296725e-03, 1.09210702e-02,\n",
       "       1.03560213e-02, 1.16365455e-02, 1.08435118e-02, 1.04008159e-02,\n",
       "       2.54480685e-02, 3.65371345e-03, 2.92179683e-03, 2.30727919e-03,\n",
       "       2.26615750e-03, 2.63001190e-03, 2.49916281e-03, 2.38252321e-03,\n",
       "       2.44673275e-03, 2.42826776e-03, 2.45077875e-03, 7.03056130e-03,\n",
       "       2.70843266e-03, 2.47332601e-03, 2.25479674e-03, 2.33600438e-03,\n",
       "       2.43565271e-03, 2.54038093e-03, 2.13980042e-03, 2.36538428e-03,\n",
       "       2.60456423e-03, 2.35499770e-03, 2.46852001e-03, 2.37707941e-03,\n",
       "       2.55849414e-03, 2.56240049e-03, 2.50156778e-03, 2.47914334e-03,\n",
       "       3.99661725e-03, 2.08430568e-03, 4.06851616e-03, 5.58979178e-03,\n",
       "       1.19118956e-02, 1.87035611e-02, 6.16052543e-02, 3.00943448e-03,\n",
       "       2.32377582e-03, 2.27746811e-03, 2.62089137e-03, 2.90009503e-03,\n",
       "       3.06533829e-03, 3.80518709e-03, 9.07668163e-03, 6.36928676e-03,\n",
       "       6.47679927e-03, 1.75002790e-02, 1.12114680e-01, 6.00273227e-03,\n",
       "       0.00000000e+00, 0.00000000e+00, 0.00000000e+00, 0.00000000e+00,\n",
       "       1.98556785e-06, 2.13095684e-05, 0.00000000e+00, 2.07010909e-05,\n",
       "       1.60890225e-05, 1.50732530e-06, 1.83842436e-04, 1.98427632e-04,\n",
       "       3.71192127e-05, 2.35174061e-03, 2.04121416e-04, 1.20286821e-03,\n",
       "       1.01911831e-04, 3.80700150e-05, 2.01342727e-03, 7.66522832e-05,\n",
       "       2.63662770e-04, 7.32843205e-05, 4.62416041e-05, 2.02842752e-04,\n",
       "       6.71963130e-04, 1.82098257e-04, 7.83984426e-04, 3.37694383e-03,\n",
       "       8.99076670e-04, 1.99892922e-04, 8.78991983e-03, 5.87873367e-04,\n",
       "       5.05478829e-04, 1.28632491e-03, 7.54549675e-03, 1.05254668e-03,\n",
       "       9.37704653e-03, 3.70049107e-03, 3.43934160e-03, 1.06408094e-02,\n",
       "       1.47542956e-03, 7.27292082e-04, 0.00000000e+00, 0.00000000e+00,\n",
       "       1.13490027e-03, 2.09516904e-04, 1.10885379e-04, 0.00000000e+00,\n",
       "       1.53016745e-05, 7.83455068e-02, 1.44799301e-03, 2.48972253e-05,\n",
       "       3.62013210e-04, 6.21882778e-04, 7.05331896e-06, 5.26477540e-05,\n",
       "       1.64115044e-05, 8.51344837e-03, 0.00000000e+00, 2.21283681e-05,\n",
       "       5.17444849e-04, 2.37050829e-05, 1.97455837e-03, 1.83170761e-03,\n",
       "       1.18955767e-02, 2.84575647e-04, 7.15032653e-06, 1.12600549e-03,\n",
       "       1.05751131e-04, 9.38964730e-04, 5.00762245e-05, 1.46888315e-04,\n",
       "       7.53296097e-05, 2.97278729e-03, 0.00000000e+00, 0.00000000e+00,\n",
       "       8.41299897e-05, 4.06594195e-02, 1.77151962e-02, 1.88492515e-02,\n",
       "       1.88142008e-02, 6.92991910e-03, 7.23964102e-03, 2.57702206e-03,\n",
       "       3.57768605e-03, 1.67790442e-02, 1.02032544e-02, 7.45009874e-03,\n",
       "       7.72698270e-03])"
      ]
     },
     "execution_count": 52,
     "metadata": {},
     "output_type": "execute_result"
    }
   ],
   "source": [
    "forest.feature_importances_"
   ]
  },
  {
   "cell_type": "code",
   "execution_count": 93,
   "metadata": {},
   "outputs": [
    {
     "data": {
      "text/plain": [
       "array([0.06160525, 0.11211468, 0.07834551])"
      ]
     },
     "execution_count": 93,
     "metadata": {},
     "output_type": "execute_result"
    }
   ],
   "source": [
    "forest.feature_importances_[forest.feature_importances_ > 0.05]"
   ]
  },
  {
   "cell_type": "code",
   "execution_count": 94,
   "metadata": {},
   "outputs": [],
   "source": [
    "from sklearn.metrics import r2_score"
   ]
  },
  {
   "cell_type": "code",
   "execution_count": 98,
   "metadata": {},
   "outputs": [
    {
     "data": {
      "text/plain": [
       "0.40483027356915124"
      ]
     },
     "execution_count": 98,
     "metadata": {},
     "output_type": "execute_result"
    }
   ],
   "source": [
    "r2_score(y_test, y_pred)"
   ]
  },
  {
   "cell_type": "code",
   "execution_count": null,
   "metadata": {},
   "outputs": [],
   "source": []
  }
 ],
 "metadata": {
  "kernelspec": {
   "display_name": "Python 3",
   "language": "python",
   "name": "python3"
  },
  "language_info": {
   "codemirror_mode": {
    "name": "ipython",
    "version": 3
   },
   "file_extension": ".py",
   "mimetype": "text/x-python",
   "name": "python",
   "nbconvert_exporter": "python",
   "pygments_lexer": "ipython3",
   "version": "3.7.1"
  }
 },
 "nbformat": 4,
 "nbformat_minor": 2
}
